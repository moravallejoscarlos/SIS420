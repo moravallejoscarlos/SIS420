{
  "nbformat": 4,
  "nbformat_minor": 0,
  "metadata": {
    "colab": {
      "provenance": [],
      "authorship_tag": "ABX9TyNPl17GD3af4J14wYhXj+2U",
      "include_colab_link": true
    },
    "kernelspec": {
      "name": "python3",
      "display_name": "Python 3"
    },
    "language_info": {
      "name": "python"
    }
  },
  "cells": [
    {
      "cell_type": "markdown",
      "metadata": {
        "id": "view-in-github",
        "colab_type": "text"
      },
      "source": [
        "<a href=\"https://colab.research.google.com/github/DanielaIgRo/SIS420-DIR/blob/main/Laboratorio_01_laberinto.ipynb\" target=\"_parent\"><img src=\"https://colab.research.google.com/assets/colab-badge.svg\" alt=\"Open In Colab\"/></a>"
      ]
    },
    {
      "cell_type": "code",
      "source": [
        "import random"
      ],
      "metadata": {
        "id": "ieES3pcYTUyF"
      },
      "execution_count": 5,
      "outputs": []
    },
    {
      "cell_type": "code",
      "source": [
        "def crear_mapa_laberinto(numero_filas, numero_columnas, numero_paredes, numero_espacios):\n",
        "# Se crea un mapa lleno de paredes\n",
        "    mapa_laberinto = []\n",
        "    numero_paredes_generadas = 0\n",
        "    for fila in range(0, numero_filas):\n",
        "        fila_mapa_laberinto = []\n",
        "        for columna in range(0, numero_columnas):\n",
        "#             if (random.randrange(2) == 1 and numero_paredes_generadas < numero_paredes):\n",
        "#                 fila_mapa_laberinto.append('#')\n",
        "#                 numero_paredes_generadas += 1\n",
        "#             else:\n",
        "#                 fila_mapa_laberinto.append(' ')\n",
        "            fila_mapa_laberinto.append('#')\n",
        "        mapa_laberinto.append(fila_mapa_laberinto)\n",
        "        \n",
        "#Se ubica aleatoriamente un punto de inicio y a partir de ese punto se llenan espacios\n",
        "    numero_espacios_generados = 0\n",
        "    fila_posicion_actual = random.randrange(numero_filas)\n",
        "    columna_posicion_actual = random.randrange(numero_columnas)\n",
        "    mapa_laberinto[fila_posicion_actual][columna_posicion_actual] = ' '\n",
        "    numero_espacios_generados += 1\n",
        "\n",
        "#Se ubica una ficha de manera aleatoria\n",
        "    ficha_fila = random.randrange(numero_filas)\n",
        "    ficha_columnas = random.randrange(numero_columnas)\n",
        "    mapa_laberinto[fila_posicion_actual][columna_posicion_actual] = 'W'\n",
        "\n",
        "    while numero_espacios_generados < numero_espacios:\n",
        "        direccion = random.randrange(4)\n",
        "        if direccion == 0 and fila_posicion_actual > 0:\n",
        "            fila_posicion_actual -= 1\n",
        "        elif direccion == 1 and fila_posicion_actual < numero_filas - 1:\n",
        "            fila_posicion_actual += 1\n",
        "        elif direccion == 2 and columna_posicion_actual > 0:\n",
        "            columna_posicion_actual -= 1\n",
        "        else:\n",
        "            if columna_posicion_actual < numero_columnas - 1:\n",
        "                columna_posicion_actual += 1\n",
        "            \n",
        "        if mapa_laberinto[fila_posicion_actual][columna_posicion_actual] == '#':\n",
        "            mapa_laberinto[fila_posicion_actual][columna_posicion_actual] = ' '\n",
        "            numero_espacios_generados += 1\n",
        "            \n",
        "    return mapa_laberinto"
      ],
      "metadata": {
        "id": "17R0Fz2GVUSU"
      },
      "execution_count": 6,
      "outputs": []
    },
    {
      "cell_type": "code",
      "source": [
        "numero_filas = int(input('Introduzca el número de filas del laberinto: '))\n",
        "numero_columnas = int(input('Introduzca el número de columnas del laberinto: '))\n",
        "numero_paredes = int(input('Introduzca el número de paredes del laberinto: '))\n",
        "numero_espacios = numero_filas * numero_columnas - numero_paredes"
      ],
      "metadata": {
        "colab": {
          "base_uri": "https://localhost:8080/"
        },
        "id": "E1tFO0P7VYTv",
        "outputId": "828983ad-9fbf-424f-f595-5e31735eca57"
      },
      "execution_count": 10,
      "outputs": [
        {
          "name": "stdout",
          "output_type": "stream",
          "text": [
            "Introduzca el número de filas del laberinto: 8\n",
            "Introduzca el número de columnas del laberinto: 7\n",
            "Introduzca el número de paredes del laberinto: 30\n"
          ]
        }
      ]
    },
    {
      "cell_type": "code",
      "source": [
        "laberinto = crear_mapa_laberinto(numero_filas, numero_columnas, numero_paredes, numero_espacios)\n",
        "\n",
        "for fila_mapa_laberinto in laberinto:\n",
        "    print(fila_mapa_laberinto)"
      ],
      "metadata": {
        "colab": {
          "base_uri": "https://localhost:8080/"
        },
        "id": "hJdMINaGVaSG",
        "outputId": "78ad93ea-f7c2-4039-b0e4-1e082963bbc5"
      },
      "execution_count": 11,
      "outputs": [
        {
          "output_type": "stream",
          "name": "stdout",
          "text": [
            "['#', '#', '#', ' ', ' ', '#', '#']\n",
            "['#', '#', '#', ' ', ' ', ' ', '#']\n",
            "['#', '#', '#', ' ', ' ', ' ', '#']\n",
            "['#', '#', '#', ' ', ' ', ' ', '#']\n",
            "['#', '#', '#', ' ', ' ', ' ', ' ']\n",
            "['#', '#', '#', '#', ' ', ' ', ' ']\n",
            "['#', '#', 'W', ' ', ' ', '#', ' ']\n",
            "['#', '#', '#', ' ', ' ', ' ', ' ']\n"
          ]
        }
      ]
    }
  ]
}