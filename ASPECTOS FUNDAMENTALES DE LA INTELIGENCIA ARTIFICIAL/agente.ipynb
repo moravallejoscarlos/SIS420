# -Maidy Rocio Mamani Lugo
-Jorge Rodrigo Morant Jalacori
-Segovia Vargas Gerson
-Carlos Alberto Mora Vallejos 
-Beimar Miguel Ceron
-Felix Antonio Flores Yampara #
{
 "cells": [
  {
   "cell_type": "code",
   "execution_count": 115,
   "metadata": {},
   "outputs": [
    {
     "name": "stdout",
     "output_type": "stream",
     "text": [
      "['#', '#', '#', '#', '#', ' ', 'Y', ' ']\n",
      "['#', '#', '#', '#', ' ', '#', ' ', ' ']\n",
      "['#', '#', '#', '#', ' ', ' ', ' ', ' ']\n",
      "['#', '#', '#', ' ', ' ', ' ', '#', ' ']\n",
      "['#', '#', '#', ' ', ' ', ' ', ' ', ' ']\n",
      "['#', '#', '#', ' ', ' ', ' ', ' ', 'X']\n",
      "['#', '#', ' ', ' ', '#', '#', '#', '#']\n"
     ]
    }
   ],
   "source": [
    "import random\n",
    "from tkinter import Y \n",
    "\n",
    "def crear_mapa_laberinto(numero_filas, numero_columnas, numero_paredes, numero_espacios):\n",
    "    # Se crea un mapa lleno de paredes\n",
    "    mapa_laberinto = []\n",
    "    numero_paredes_generadas = 0\n",
    "    for fila in range(0, numero_filas):\n",
    "        fila_mapa_laberinto = []\n",
    "        for columna in range(0, numero_columnas):\n",
    "            fila_mapa_laberinto.append('#')\n",
    "        mapa_laberinto.append(fila_mapa_laberinto)\n",
    "\n",
    "    #Se ubica aleatoriamente un punto de inicio y a partir de ese punto se llenan espacios\n",
    "    numero_espacios_generados = 0\n",
    "    fila_posicion_actual = random.randrange(numero_filas)\n",
    "    columna_posicion_actual = random.randrange(numero_columnas)\n",
    "    mapa_laberinto[fila_posicion_actual][columna_posicion_actual] = ' '\n",
    "    numero_espacios_generados += 1\n",
    "\n",
    "    # Agente = Y\n",
    "    ficha_fila = random.randrange(numero_filas)\n",
    "    ficha_columnas = random.randrange(numero_columnas)\n",
    "    mapa_laberinto[fila_posicion_actual][columna_posicion_actual] = 'Y'\n",
    "\n",
    "\n",
    "    while numero_espacios_generados < numero_espacios:\n",
    "        direccion = random.randrange(4)\n",
    "        if direccion == 0 and fila_posicion_actual > 0:\n",
    "            fila_posicion_actual -= 1\n",
    "        elif direccion == 1 and fila_posicion_actual < numero_filas - 1:\n",
    "            fila_posicion_actual += 1\n",
    "        elif direccion == 2 and columna_posicion_actual > 0:\n",
    "            columna_posicion_actual -= 1\n",
    "        else:\n",
    "            if columna_posicion_actual < numero_columnas - 1:\n",
    "                    columna_posicion_actual += 1\n",
    "            \n",
    "        if mapa_laberinto[fila_posicion_actual][columna_posicion_actual] == '#':\n",
    "            mapa_laberinto[fila_posicion_actual][columna_posicion_actual] = ' '     \n",
    "            numero_espacios_generados += 1\n",
    "\n",
    "    return mapa_laberinto\n",
    "\n",
    "numero_filas = int(input('Introduzca el número de filas del laberinto: '))\n",
    "numero_columnas = int(input('Introduzca el número de columnas del laberinto: '))\n",
    "numero_paredes = int(input('Introduzca el número de paredes del laberinto: '))\n",
    "numero_espacios = numero_filas * numero_columnas - numero_paredes\n",
    "\n",
    "laberinto = crear_mapa_laberinto(numero_filas, numero_columnas, numero_paredes, numero_espacios)\n",
    "\n",
    "# insertar x en una posicion aleatoria en el laberinto\n",
    "\n",
    "while True:\n",
    "    x_=random.randrange(numero_filas)\n",
    "    y_=random.randrange(numero_columnas)\n",
    "    if laberinto[x_][y_] == ' ':\n",
    "        laberinto[x_][y_] = 'X'\n",
    "        break\n",
    "\n",
    "for fila_mapa_laberinto in laberinto:\n",
    "    print(fila_mapa_laberinto)\n"
   ]
  },
  {
   "cell_type": "code",
   "execution_count": 71,
   "metadata": {},
   "outputs": [],
   "source": [
    "# copiar laberinto sin mutar\n",
    "laberinto2 = laberinto.copy()\n"
   ]
  },
  {
   "cell_type": "code",
   "execution_count": 72,
   "metadata": {},
   "outputs": [],
   "source": [
    "def posicion_x(laberinto):\n",
    "    for i in range(len(laberinto)):\n",
    "        for j in range(len(laberinto[i])):\n",
    "            if laberinto[i][j] == 'X':\n",
    "                return i,j\n",
    "\n",
    "def posicion_y(laberinto):\n",
    "    for i in range(len(laberinto)):\n",
    "        for j in range(len(laberinto[i])):\n",
    "            if laberinto[i][j] == 'Y':\n",
    "                return i,j\n",
    "\n",
    "def win(laberinto):\n",
    "    x,y = posicion_x(laberinto)\n",
    "    a,b = posicion_y(laberinto)\n",
    "    if x == a and y == b:\n",
    "        print(\"Ganaste\")\n",
    "        return True\n",
    "    else:\n",
    "        return False\n",
    "\n",
    "def printLaberinto(laberinto):\n",
    "    for fila_mapa_laberinto in laberinto:\n",
    "        print(fila_mapa_laberinto)\n"
   ]
  },
  {
   "cell_type": "code",
   "execution_count": 116,
   "metadata": {},
   "outputs": [],
   "source": [
    "def agente2(laberinto):\n",
    "  x,y = posicion_x(laberinto)\n",
    "  a,b = posicion_y(laberinto)\n",
    "  # mover la \"y\" hacia la \"x\" sin pasar por paredes\n",
    "  if x > a:\n",
    "    print(\"abajo\")\n",
    "    if laberinto[a+1][b] != '#':\n",
    "      print(\"abajo-2\")\n",
    "      laberinto[a+1][b] = 'Y'\n",
    "      laberinto[a][b] = '*'\n",
    "      a = a+1\n",
    "      return\n",
    "    elif laberinto[a][b+1] != '#':\n",
    "      print(\"derecha\")\n",
    "      laberinto[a][b+1] = 'Y'\n",
    "      laberinto[a][b] = '*'\n",
    "      b = b+1\n",
    "      return\n",
    "    elif laberinto[a][b-1] != '#':\n",
    "      print(\"izquierda\")\n",
    "      laberinto[a][b-1] = 'Y'\n",
    "      laberinto[a][b] = '*'\n",
    "      b = b-1\n",
    "      return\n",
    "    elif laberinto[a-1][b] != '#':\n",
    "      print(\"arriba\")\n",
    "      laberinto[a-1][b] = 'Y'\n",
    "      laberinto[a][b] = '*'\n",
    "      a = a-1\n",
    "      return\n",
    "  elif x < a:\n",
    "    print(\"arriba\")\n",
    "    if laberinto[a-1][b] != '#':\n",
    "      print(\"arriba-2\")\n",
    "      laberinto[a-1][b] = 'Y'\n",
    "      laberinto[a][b] = '*'\n",
    "      a = a-1\n",
    "      return\n",
    "    elif laberinto[a][b+1] != '#':\n",
    "      print(\"derecha\")\n",
    "      laberinto[a][b+1] = 'Y'\n",
    "      laberinto[a][b] = '*'\n",
    "      b = b+1\n",
    "      return\n",
    "    elif laberinto[a][b-1] != '#':\n",
    "      print(\"izquierda\")\n",
    "      laberinto[a][b-1] = 'Y'\n",
    "      laberinto[a][b] = '*'\n",
    "      b = b-1\n",
    "      return\n",
    "    elif laberinto[a+1][b] != '#':\n",
    "      print(\"abajo\")\n",
    "      laberinto[a+1][b] = 'Y'\n",
    "      laberinto[a][b] = '*'\n",
    "      a = a+1\n",
    "      return\n",
    "\n",
    "  elif y > b:\n",
    "    print(\"derecha\")\n",
    "    if laberinto[a][b+1] != '#':\n",
    "      print(\"derecha-2\")\n",
    "      laberinto[a][b+1] = 'Y'\n",
    "      laberinto[a][b] = '*'\n",
    "      b = b+1\n",
    "      return\n",
    "    elif laberinto[a+1][b] != '#':\n",
    "      print(\"abajo\")\n",
    "      laberinto[a+1][b] = 'Y'\n",
    "      laberinto[a][b] = '*'\n",
    "      a = a+1\n",
    "      return\n",
    "    elif laberinto[a-1][b] != '#':\n",
    "      print(\"arriba\")\n",
    "      laberinto[a-1][b] = 'Y'\n",
    "      laberinto[a][b] = '*'\n",
    "      a = a-1\n",
    "      return\n",
    "    elif laberinto[a][b-1] != '#':\n",
    "      print(\"izquierda\")\n",
    "      laberinto[a][b-1] = 'Y'\n",
    "      laberinto[a][b] = '*'\n",
    "      b = b-1\n",
    "      return\n",
    "\n",
    "  elif y < b:\n",
    "    print(\"izquierda\")\n",
    "    if laberinto[a][b-1] != '#':\n",
    "      print(\"izquierda-2\")\n",
    "      laberinto[a][b-1] = 'Y'\n",
    "      laberinto[a][b] = '*'\n",
    "      b = b-1\n",
    "      return\n",
    "    elif laberinto[a+1][b] != '#':\n",
    "      print(\"abajo\")\n",
    "      laberinto[a+1][b] = 'Y'\n",
    "      laberinto[a][b] = '*'\n",
    "      a = a+1\n",
    "      return\n",
    "    elif laberinto[a-1][b] != '#':\n",
    "      print(\"arriba\")\n",
    "      laberinto[a-1][b] = 'Y'\n",
    "      laberinto[a][b] = '*'\n",
    "      a = a-1\n",
    "      return\n",
    "    elif laberinto[a][b+1] != '#':\n",
    "      print(\"derecha\")\n",
    "      laberinto[a][b+1] = 'Y'\n",
    "      laberinto[a][b] = '*'\n",
    "      b = b+1\n",
    "      return\n",
    "      \n",
    "  return laberinto\n",
    "  \n"
   ]
  },
  {
   "cell_type": "code",
   "execution_count": 6,
   "metadata": {},
   "outputs": [
    {
     "name": "stdout",
     "output_type": "stream",
     "text": [
      "-----------------------------------\n",
      "-----------------------------------\n",
      "-----------------------------------\n",
      "-----------------------------------\n",
      "-----------------------------------\n",
      "-----------------------------------\n",
      "-----------------------------------\n",
      "-----------------------------------\n",
      "-----------------------------------\n",
      "-----------------------------------\n"
     ]
    }
   ],
   "source": [
    "# agente basado en el modelo movimiento de \"y\" abajo y derecha hasta llegar a la ficha x\n",
    "def agente(laberinto):\n",
    "  y_fila, y_columna = posicion_y(laberinto)\n",
    "  cont = 0\n",
    "  while(cont < 10):\n",
    "    cont += 1\n",
    "    print(\"-----------------------------------\")\n",
    "    # ver si se puede mover hacia abajo\n",
    "    if y_fila < len(laberinto) - 1 and laberinto[y_fila + 1][y_columna] != '#' and laberinto[y_fila + 1][y_columna] != '*':\n",
    "      y_fila += 1\n",
    "      laberinto[y_fila][y_columna] = 'Y'\n",
    "      laberinto[y_fila - 1][y_columna] = '*'\n",
    "      printLaberinto(laberinto)\n",
    "      if win(laberinto):\n",
    "        break\n",
    "    # ver si se puede mover a la derecha\n",
    "    elif y_columna < len(laberinto[y_fila]) - 1 and laberinto[y_fila][y_columna + 1] != '#' and laberinto[y_fila][y_columna + 1] != '*':\n",
    "      y_columna += 1\n",
    "      laberinto[y_fila][y_columna] = 'Y'\n",
    "      laberinto[y_fila][y_columna - 1] = '*'\n",
    "      printLaberinto(laberinto)\n",
    "      if win(laberinto):\n",
    "        break\n",
    "    # ver si se puede mover hacia arriba\n",
    "    elif y_fila > 0 and laberinto[y_fila - 1][y_columna] != '#' and laberinto[y_fila - 1][y_columna] != '*':\n",
    "      y_fila -= 1\n",
    "      laberinto[y_fila][y_columna] = 'Y'\n",
    "      laberinto[y_fila + 1][y_columna] = '*'\n",
    "      printLaberinto(laberinto)\n",
    "      if win(laberinto):\n",
    "        break\n",
    "    # ver si se puede mover a la izquierda\n",
    "    elif y_columna > 0 and laberinto[y_fila][y_columna - 1] != '#' and laberinto[y_fila][y_columna - 1] != '*':\n",
    "      y_columna -= 1\n",
    "      laberinto[y_fila][y_columna] = 'Y'\n",
    "      laberinto[y_fila][y_columna + 1] = '*'\n",
    "      printLaberinto(laberinto)\n",
    "      if win(laberinto):\n",
    "        break\n",
    "\n",
    "\n",
    "agente(laberinto)"
   ]
  },
  {
   "cell_type": "code",
   "execution_count": 121,
   "metadata": {},
   "outputs": [
    {
     "name": "stdout",
     "output_type": "stream",
     "text": [
      "abajo\n",
      "abajo-2\n",
      "['#', '#', '#', '#', '#', ' ', ' ', ' ']\n",
      "['#', '#', '#', '#', ' ', '#', ' ', ' ']\n",
      "['#', '#', '#', '#', ' ', ' ', ' ', ' ']\n",
      "['#', '#', '#', ' ', ' ', ' ', '#', ' ']\n",
      "['#', '#', '#', ' ', ' ', ' ', ' ', 'Y']\n",
      "['#', '#', '#', ' ', ' ', ' ', ' ', 'X']\n",
      "['#', '#', ' ', ' ', '#', '#', '#', '#']\n"
     ]
    }
   ],
   "source": [
    "agente2(laberinto)\n",
    "printLaberinto(laberinto)"
   ]
  },
  {
   "cell_type": "code",
   "execution_count": 52,
   "metadata": {},
   "outputs": [],
   "source": [
    "laberinto = laberinto2"
   ]
  },
  {
   "cell_type": "code",
   "execution_count": 75,
   "metadata": {},
   "outputs": [
    {
     "name": "stdout",
     "output_type": "stream",
     "text": [
      "['#', '#', '#', '#', '#', '#', ' ', ' ']\n",
      "['#', '#', '#', '#', '#', '#', 'Y', ' ']\n",
      "['#', '#', '#', '#', '#', '#', '#', ' ']\n",
      "['#', '#', '#', ' ', '#', '#', ' ', ' ']\n",
      "['#', '#', '#', ' ', ' ', ' ', ' ', ' ']\n",
      "['#', ' ', ' ', ' ', ' ', ' ', ' ', ' ']\n",
      "['#', '#', ' ', ' ', ' ', 'X', ' ', ' ']\n"
     ]
    }
   ],
   "source": [
    "printLaberinto(laberinto2)\n"
   ]
  },
  {
   "cell_type": "code",
   "execution_count": null,
   "metadata": {},
   "outputs": [],
   "source": []
  },
  {
   "cell_type": "code",
   "execution_count": null,
   "metadata": {},
   "outputs": [],
   "source": []
  },
  {
   "cell_type": "code",
   "execution_count": null,
   "metadata": {},
   "outputs": [],
   "source": []
  },
  {
   "cell_type": "code",
   "execution_count": null,
   "metadata": {},
   "outputs": [],
   "source": []
  },
  {
   "cell_type": "code",
   "execution_count": null,
   "metadata": {},
   "outputs": [],
   "source": []
  },
  {
   "cell_type": "code",
   "execution_count": null,
   "metadata": {},
   "outputs": [],
   "source": []
  }
 ],
 "metadata": {
  "kernelspec": {
   "display_name": "Python 3.10.7 64-bit (microsoft store)",
   "language": "python",
   "name": "python3"
  },
  "language_info": {
   "codemirror_mode": {
    "name": "ipython",
    "version": 3
   },
   "file_extension": ".py",
   "mimetype": "text/x-python",
   "name": "python",
   "nbconvert_exporter": "python",
   "pygments_lexer": "ipython3",
   "version": "3.10.7"
  },
  "orig_nbformat": 4,
  "vscode": {
   "interpreter": {
    "hash": "ae54a4f89777a2d2ac37ec040ecde6f9afb2043d0abfaf392068002e399151d8"
   }
  }
 },
 "nbformat": 4,
 "nbformat_minor": 2
}
